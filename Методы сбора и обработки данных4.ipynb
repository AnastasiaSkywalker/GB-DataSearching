{
 "cells": [
  {
   "cell_type": "markdown",
   "metadata": {},
   "source": [
    "\n",
    "    Написать приложение, которое собирает основные новости с сайтов news.mail.ru, lenta.ru, yandex-новости. Для парсинга использовать XPath. Структура данных должна содержать:\n",
    "        название источника;\n",
    "        наименование новости;\n",
    "        ссылку на новость;\n",
    "        дата публикации.\n",
    "    Сложить собранные данные в БД\n",
    "\n"
   ]
  },
  {
   "cell_type": "code",
   "execution_count": 4,
   "metadata": {},
   "outputs": [],
   "source": [
    "from pprint import pprint\n",
    "from lxml import html\n",
    "import requests\n",
    "import time\n",
    "from datetime import datetime"
   ]
  },
  {
   "cell_type": "markdown",
   "metadata": {},
   "source": [
    "def get_news_lenta_ru(): ############################ код из интернета, тоже не работает - пустой словарь на выходе\n",
    "    \n",
    "    news = []\n",
    "    \n",
    "    keys = ('title', 'date', 'link')\n",
    "    date_format = '%Y-%m-%dT%H:%M:%S%z'\n",
    "    link_lenta = 'https://lenta.ru/'\n",
    "    \n",
    "    request = requests.get(link_lenta)\n",
    "\n",
    "    root = html.fromstring(request.text)\n",
    "    root.make_links_absolute(link_lenta)\n",
    "    \n",
    "    news_links = root.xpath('''(//section[@class=\"row b-top7-for-main js-top-seven\"]//div[@class=\"first-item\"]/h2 | \n",
    "                                //section[@class=\"row b-top7-for-main js-top-seven\"]//div[@class=\"item\"])\n",
    "                                /a/@href''')\n",
    "    \n",
    "    news_text = root.xpath('''(//section[@class=\"row b-top7-for-main js-top-seven\"]//div[@class=\"first-item\"]/h2 | \n",
    "                                //section[@class=\"row b-top7-for-main js-top-seven\"]//div[@class=\"item\"])\n",
    "                                /a/text()''')\n",
    "    news_date = []\n",
    "    \n",
    "    for item in news_links:\n",
    "        request = requests.get(item)\n",
    "        root = html.fromstring(request.text)\n",
    "        date = root.xpath('//time[@itemprop=\"datePublished\"]/@datetime')\n",
    "        news_date.extend(date)\n",
    "\n",
    "    for i in range(len(news_date)):\n",
    "        news_date[i] = datetime.strptime(news_date[i], date_format)\n",
    "        \n",
    "    for item in list(zip(news_text, news_date, news_links)):\n",
    "        news_dict = {}\n",
    "        for key, value in zip(keys, item):\n",
    "            news_dict[key] = value\n",
    "        \n",
    "        news_dict['source'] = 'lenta.ru'\n",
    "        news.append(news_dict)\n",
    "    \n",
    "    return news"
   ]
  },
  {
   "cell_type": "markdown",
   "metadata": {},
   "source": [
    "get_news_lenta_ru()"
   ]
  },
  {
   "cell_type": "markdown",
   "metadata": {},
   "source": [
    "КОД ЛЕНТЫ\n",
    "     <a href = \"/news/2021/04/23/ambani/\"><time class=\"g-time\" title=\"23 апреля 2021\" datetime=\" 18:38, 23 апреля 2021\">18:38</time>Самый богатый индиец купил поместье из&nbsp;фильма про Джеймса Бонда</a>\n",
    "\n",
    "     <div class=\"item\"><a href=\"/news/2021/04/23/ambani/\"><time class=\"g-time\" title=\"23 апреля 2021\" datetime=\" 18:38, 23 апреля 2021\">18:38</time>Самый богатый индиец купил поместье из&nbsp;фильма про Джеймса Бонда</a></div>"
   ]
  },
  {
   "cell_type": "code",
   "execution_count": 12,
   "metadata": {},
   "outputs": [
    {
     "name": "stdout",
     "output_type": "stream",
     "text": [
      "[]\n"
     ]
    }
   ],
   "source": [
    "from lxml import html\n",
    "import requests\n",
    "from pprint import pprint\n",
    "\n",
    "header = {'User-Agent': 'Mozilla/5.0 (Windows NT 10.0; Win64; x64) AppleWebKit/537.36 (KHTML, like Gecko) Chrome/89.0.4389.128 Safari/537.36'}\n",
    "\n",
    "response = requests.get('https://lenta.ru/')\n",
    "\n",
    "dom = html.fromstring(response.text)\n",
    "\n",
    "news = []\n",
    "items = dom.xpath(\"//div[contains(@class,'g-time')]\")\n",
    "for event in items:\n",
    "    event = {}\n",
    "    link = event.xpath(\".//div[@class = 'item']/@href\")\n",
    "    news['link'] = link[0]\n",
    "\n",
    "    news.append(news)\n",
    "\n",
    "\n",
    "pprint(news)"
   ]
  },
  {
   "cell_type": "markdown",
   "metadata": {},
   "source": [
    " <!span class=\"link__text\">«Аэрофлот» прокомментировал продажу лоукостера «Победа»</span>\n",
    "\n",
    "<!ul class=\"list list_type_square list_overflow\"><li class=\"list__item\">\n",
    "<!span class=\"list__text\"><a class=\"link link_flex\" href=\"https:// news.mail.ru/economics/46064593/\">\n",
    "<!span class=\"link__text\">«Аэрофлот» прокомментировал продажу лоукостера «Победа»</span>\n",
    "<!/a></span></li><li class=\"list__item\"><span class=\"list__text\">\n",
    "<!a class=\"link link_flex\" href=\"https:// news.mail.ru/economics/46058057/\">\n",
    "<!span class=\"link__text\">Курс рубля резко вырос на фоне заявления об отводе российских войск</span>\n",
    "<!/a></span></li><li class=\"list__item\"><span class=\"list__text\">\n",
    "<1a class=\"link link_flex\" href=\"https:// news.mail.ru/economics/46056961/\">\n",
    "<!span class=\"link__text\">«Встретиться с прабабушкой». Агентство извинилось за рекламу вакцинации</span>\n",
    "<!/a></span></li></ul>"
   ]
  },
  {
   "cell_type": "code",
   "execution_count": 14,
   "metadata": {},
   "outputs": [
    {
     "ename": "AttributeError",
     "evalue": "'dict' object has no attribute 'xpath'",
     "output_type": "error",
     "traceback": [
      "\u001b[1;31m---------------------------------------------------------------------------\u001b[0m",
      "\u001b[1;31mAttributeError\u001b[0m                            Traceback (most recent call last)",
      "\u001b[1;32m<ipython-input-14-82c8b9f8927e>\u001b[0m in \u001b[0;36m<module>\u001b[1;34m\u001b[0m\n\u001b[0;32m     13\u001b[0m \u001b[1;32mfor\u001b[0m \u001b[0mevent\u001b[0m \u001b[1;32min\u001b[0m \u001b[0mitems\u001b[0m\u001b[1;33m:\u001b[0m\u001b[1;33m\u001b[0m\u001b[1;33m\u001b[0m\u001b[0m\n\u001b[0;32m     14\u001b[0m     \u001b[0mevent\u001b[0m \u001b[1;33m=\u001b[0m \u001b[1;33m{\u001b[0m\u001b[1;33m}\u001b[0m\u001b[1;33m\u001b[0m\u001b[1;33m\u001b[0m\u001b[0m\n\u001b[1;32m---> 15\u001b[1;33m     \u001b[0mlink\u001b[0m \u001b[1;33m=\u001b[0m \u001b[0mevent\u001b[0m\u001b[1;33m.\u001b[0m\u001b[0mxpath\u001b[0m\u001b[1;33m(\u001b[0m\u001b[1;34m\".//li[@class = 'link']/@href\"\u001b[0m\u001b[1;33m)\u001b[0m\u001b[1;33m\u001b[0m\u001b[1;33m\u001b[0m\u001b[0m\n\u001b[0m\u001b[0;32m     16\u001b[0m     \u001b[0mnews\u001b[0m\u001b[1;33m[\u001b[0m\u001b[1;34m'link'\u001b[0m\u001b[1;33m]\u001b[0m \u001b[1;33m=\u001b[0m \u001b[0mlink\u001b[0m\u001b[1;33m[\u001b[0m\u001b[1;36m0\u001b[0m\u001b[1;33m]\u001b[0m\u001b[1;33m\u001b[0m\u001b[1;33m\u001b[0m\u001b[0m\n\u001b[0;32m     17\u001b[0m \u001b[1;33m\u001b[0m\u001b[0m\n",
      "\u001b[1;31mAttributeError\u001b[0m: 'dict' object has no attribute 'xpath'"
     ]
    }
   ],
   "source": [
    "from lxml import html\n",
    "import requests\n",
    "from pprint import pprint\n",
    "\n",
    "header = {'User-Agent': 'Mozilla/5.0 (Windows NT 10.0; Win64; x64) AppleWebKit/537.36 (KHTML, like Gecko) Chrome/89.0.4389.128 Safari/537.36'}\n",
    "\n",
    "response = requests.get('https://lenta.ru/')\n",
    "\n",
    "dom = html.fromstring(response.text)\n",
    "\n",
    "news = []\n",
    "items = dom.xpath(\"//li[contains(@class,'list-item')]\")\n",
    "for event in items:\n",
    "    event = {}\n",
    "    link = event.xpath(\".//li[@class = 'link']/@href\")\n",
    "    news['link'] = link[0]\n",
    "\n",
    "    news.append(news)\n",
    "\n",
    "\n",
    "pprint(news)"
   ]
  },
  {
   "cell_type": "code",
   "execution_count": null,
   "metadata": {},
   "outputs": [],
   "source": []
  }
 ],
 "metadata": {
  "kernelspec": {
   "display_name": "Python 3",
   "language": "python",
   "name": "python3"
  },
  "language_info": {
   "codemirror_mode": {
    "name": "ipython",
    "version": 3
   },
   "file_extension": ".py",
   "mimetype": "text/x-python",
   "name": "python",
   "nbconvert_exporter": "python",
   "pygments_lexer": "ipython3",
   "version": "3.8.5"
  }
 },
 "nbformat": 4,
 "nbformat_minor": 4
}
