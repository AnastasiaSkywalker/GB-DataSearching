{
 "cells": [
  {
   "cell_type": "markdown",
   "metadata": {},
   "source": [
    "Необходимо собрать информацию о вакансиях на вводимую должность (используем input или через аргументы) с сайтов Superjob и HH. Приложение должно анализировать несколько страниц сайта (также вводим через input или аргументы). Получившийся список должен содержать в себе минимум:\n",
    "* Наименование вакансии.\n",
    "* Предлагаемую зарплату (отдельно минимальную, максимальную и валюту).\n",
    "* Ссылку на саму вакансию.\n",
    "* Сайт, откуда собрана вакансия.\n",
    "\n",
    "По желанию можно добавить ещё параметры вакансии (например, работодателя и расположение). Структура должна быть одинаковая для вакансий с обоих сайтов. Общий результат можно вывести с помощью dataFrame через pandas.\n"
   ]
  },
  {
   "cell_type": "markdown",
   "metadata": {},
   "source": [
    "Те классы для поиска, что взяты другими студентами, мой браузер не открывает, максимум того, чего я добилась - вывода пустых []. Иногда интерпретатор пишет, что не задана переменная name. \n",
    "https://hh.ru/vacancies/podrabotka?clusters=true&area=113&enable_snippets=true&is_part_time_clusters_enabled=true&salary=&st=searchVacancy&text=Data+scientist&from=suggest_post\n",
    "                             страница с параметрами\n",
    "\n",
    "<div class=\"vacancy-serp-item__sidebar\"><span class=\"bloko-section-header-3 bloko-section-header-3_lite\" data-qa=\"vacancy-serp__vacancy-compensation\">от 4&nbsp;500 USD</span></div>\n",
    "                    код зарплаты, который мой пайчарм не обрабатывает\n",
    "\n",
    "<div data-qa=\"vacancy-serp__vacancy\" class=\"vacancy-serp-item \"><script data-name=\"HH/VacancyResponseTrigger\" data-params=\"\"></script><div xmlns:b=\"http://hhru.github.com/bloko/\" xmlns:hh=\"http://schema.reintegration.hh.ru/types\" class=\"vacancy-serp-item__row vacancy-serp-item__row_labels\"></div><div class=\"vacancy-serp-item__row vacancy-serp-item__row_header\"><div class=\"vacancy-serp-item__info\"><span class=\"bloko-section-header-3 bloko-section-header-3_lite\"><span class=\"resume-search-item__name\"><span class=\"g-user-content\"><a class=\"bloko-link HH-LinkModifier\" data-qa=\"vacancy-serp__vacancy-title\" href=\"https://hh.ru/vacancy/43608616?query=Data%20scientist\" data-position=\"0\" data-requestid=\"1619122782072f8b16a68d4b2ac3191d\" data-totalvacancies=\"17\" target=\"_blank\">Data Scientist</a></span></span></span></div><div class=\"vacancy-serp-item__sidebar\"></div></div><div class=\"vacancy-serp-item__meta-info\"><div class=\"vacancy-serp-item__meta-info-company\"><a href=\"/employer/2782259\" class=\"bloko-link bloko-link_secondary\" data-qa=\"vacancy-serp__vacancy-employer\">ООО Гудфокаст</a></div><div class=\"vacancy-serp-item__meta-info-badges\"><a class=\"vacancy-serp-item__meta-info-link\" target=\"_blank\" href=\"https://feedback.hh.ru/article/details/id/5951\"><span class=\"bloko-icon bloko-icon_done bloko-icon_initial-action\"><script data-name=\"HH/Tooltip/Hover\" data-params=\"\n",
    "                                код вакансии"
   ]
  },
  {
   "cell_type": "code",
   "execution_count": 10,
   "metadata": {},
   "outputs": [
    {
     "name": "stdout",
     "output_type": "stream",
     "text": [
      "[]\n",
      "[]\n"
     ]
    },
    {
     "ename": "NameError",
     "evalue": "name 'name' is not defined",
     "output_type": "error",
     "traceback": [
      "\u001b[1;31m---------------------------------------------------------------------------\u001b[0m",
      "\u001b[1;31mNameError\u001b[0m                                 Traceback (most recent call last)",
      "\u001b[1;32m<ipython-input-10-5d9bbed78a55>\u001b[0m in \u001b[0;36m<module>\u001b[1;34m\u001b[0m\n\u001b[0;32m     59\u001b[0m \u001b[1;33m\u001b[0m\u001b[0m\n\u001b[0;32m     60\u001b[0m \u001b[0mpprint\u001b[0m\u001b[1;33m(\u001b[0m\u001b[0mvacancies\u001b[0m\u001b[1;33m)\u001b[0m\u001b[1;33m\u001b[0m\u001b[1;33m\u001b[0m\u001b[0m\n\u001b[1;32m---> 61\u001b[1;33m \u001b[0mprint\u001b[0m\u001b[1;33m(\u001b[0m\u001b[1;34mf\"{name} с зарплатой {salary} с {link}\"\u001b[0m\u001b[1;33m)\u001b[0m\u001b[1;33m\u001b[0m\u001b[1;33m\u001b[0m\u001b[0m\n\u001b[0m\u001b[0;32m     62\u001b[0m \u001b[1;33m\u001b[0m\u001b[0m\n\u001b[0;32m     63\u001b[0m \u001b[1;31m#print(f'({name}, с зарплатой от {min_salary}, до {max_salary}, {currency} с сайта {link}')\u001b[0m\u001b[1;33m\u001b[0m\u001b[1;33m\u001b[0m\u001b[1;33m\u001b[0m\u001b[0m\n",
      "\u001b[1;31mNameError\u001b[0m: name 'name' is not defined"
     ]
    }
   ],
   "source": [
    "from bs4 import BeautifulSoup as bs\n",
    "import requests\n",
    "import pandas as pd\n",
    "from pprint import pprint\n",
    "\n",
    "\n",
    "params = {'clusters': True,\n",
    "        'area': '113',\n",
    "        'enable_snippets': True,\n",
    "        'is_part_time_clusters_enabled': True,\n",
    "        'salary': '',\n",
    "        'st': 'searchVacancy',\n",
    "        'text': 'Data+scientist',\n",
    "        'from': 'suggest_post'\n",
    "        }\n",
    "\n",
    "headers = {'HH-User-Agent': 'Mozilla/5.0 (Windows NT 10.0; Win64; x64; rv:88.0) Gecko/20100101 Firefox/88.0'}\n",
    "\n",
    "main_url = 'https://hh.ru/vacancies/podrabotka'\n",
    "response = requests.get(main_url, params=params, headers=headers)\n",
    "\n",
    "dom = bs(response.text, 'html.parser')\n",
    "\n",
    "# <div class=\"vacancy-serp-item__row vacancy-serp-item__row_header\">\n",
    "# <div class=\"vacancy-serp-item__info\">\n",
    "# <span class=\"bloko-section-header-3 bloko-section-header-3_lite\">\n",
    "# <span class=\"resume-search-item__name\">\n",
    "# <span class=\"g-user-content\">\n",
    "# <a class=\"bloko-link HH-LinkModifier\"\n",
    "# data-qa=\"vacancy-serp__vacancy-title\"\n",
    "# href=\"https://hh.ru/analytics_source/vacancy/43610993?query=Data%20scientist&amp;source=vacancies\"\n",
    "# data-position=\"4\" data-requestid=\"161911625107638235896e654faf6686\"\n",
    "# data-totalvacancies=\"17\"\n",
    "# target=\"_blank\"\n",
    "# data-clicked=\"true\">Математик/data scientist\n",
    "# </a>\n",
    "# </span>\n",
    "# </span>\n",
    "# </span>\n",
    "# </div>\n",
    "# <div class=\"vacancy-serp-item__sidebar\"></div>\n",
    "# </div>\n",
    "\n",
    "\n",
    "vacancies_list = dom.find_all('div', {'class': 'vacancy-serp-item__row vacancy-serp-item__row_header'})\n",
    "pprint(vacancies_list)\n",
    "\n",
    "vacancies = []\n",
    "for vacancies in vacancies_list:\n",
    "    current_vacancy = {}\n",
    "    name = vacancies.find('div', {'data-qa': 'vacancy-serp__vacancy-title'})\n",
    "    link = vacancies.find[href]\n",
    "    salary = vacancies.find('span', {'data-qa': 'vacancy-serp__vacancy-compensation'})  #какую из зарпат ни беру, обе не работают\n",
    "#    salary = vacancies.find('div', {'class': 'vacancy-serp-item__sidebar'})\n",
    "    current_vacancy['salary'] = salary\n",
    "    current_vacancy['link'] = link\n",
    "    current_vacancy['name'] = name\n",
    "    vacancies.append(current_vacancy)\n",
    "\n",
    "pprint(vacancies)\n",
    "print(f\"{name} с зарплатой {salary} с {link}\")\n",
    "\n",
    "#print(f'({name}, с зарплатой от {min_salary}, до {max_salary}, {currency} с сайта {link}')\n",
    "\n",
    "\n"
   ]
  },
  {
   "cell_type": "code",
   "execution_count": 9,
   "metadata": {},
   "outputs": [
    {
     "name": "stdout",
     "output_type": "stream",
     "text": [
      "Empty DataFrame\n",
      "Columns: []\n",
      "Index: []\n"
     ]
    }
   ],
   "source": [
    "database = pd.DataFrame(vacancies)\n",
    "print(database)"
   ]
  },
  {
   "cell_type": "code",
   "execution_count": null,
   "metadata": {},
   "outputs": [],
   "source": []
  }
 ],
 "metadata": {
  "kernelspec": {
   "display_name": "Python 3",
   "language": "python",
   "name": "python3"
  },
  "language_info": {
   "codemirror_mode": {
    "name": "ipython",
    "version": 3
   },
   "file_extension": ".py",
   "mimetype": "text/x-python",
   "name": "python",
   "nbconvert_exporter": "python",
   "pygments_lexer": "ipython3",
   "version": "3.8.5"
  }
 },
 "nbformat": 4,
 "nbformat_minor": 4
}
